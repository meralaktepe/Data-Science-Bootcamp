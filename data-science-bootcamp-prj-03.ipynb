{
 "cells": [
  {
   "cell_type": "code",
   "execution_count": 1,
   "id": "8a8cdbe6",
   "metadata": {
    "execution": {
     "iopub.execute_input": "2024-09-04T17:26:05.858911Z",
     "iopub.status.busy": "2024-09-04T17:26:05.858427Z",
     "iopub.status.idle": "2024-09-04T17:26:05.864072Z",
     "shell.execute_reply": "2024-09-04T17:26:05.863071Z"
    },
    "papermill": {
     "duration": 0.017362,
     "end_time": "2024-09-04T17:26:05.866670",
     "exception": false,
     "start_time": "2024-09-04T17:26:05.849308",
     "status": "completed"
    },
    "tags": []
   },
   "outputs": [],
   "source": [
    "#### Kural Tabanlı Sınıflandırma ile Potansiyel Müşteri Getirisi Hesaplama ####"
   ]
  },
  {
   "cell_type": "code",
   "execution_count": 2,
   "id": "45148a25",
   "metadata": {
    "execution": {
     "iopub.execute_input": "2024-09-04T17:26:05.882103Z",
     "iopub.status.busy": "2024-09-04T17:26:05.881598Z",
     "iopub.status.idle": "2024-09-04T17:26:08.123915Z",
     "shell.execute_reply": "2024-09-04T17:26:08.122802Z"
    },
    "papermill": {
     "duration": 2.253117,
     "end_time": "2024-09-04T17:26:08.126686",
     "exception": false,
     "start_time": "2024-09-04T17:26:05.873569",
     "status": "completed"
    },
    "tags": []
   },
   "outputs": [
    {
     "data": {
      "text/html": [
       "<div>\n",
       "<style scoped>\n",
       "    .dataframe tbody tr th:only-of-type {\n",
       "        vertical-align: middle;\n",
       "    }\n",
       "\n",
       "    .dataframe tbody tr th {\n",
       "        vertical-align: top;\n",
       "    }\n",
       "\n",
       "    .dataframe thead th {\n",
       "        text-align: right;\n",
       "    }\n",
       "</style>\n",
       "<table border=\"1\" class=\"dataframe\">\n",
       "  <thead>\n",
       "    <tr style=\"text-align: right;\">\n",
       "      <th></th>\n",
       "      <th>PRICE</th>\n",
       "      <th>SOURCE</th>\n",
       "      <th>SEX</th>\n",
       "      <th>COUNTRY</th>\n",
       "      <th>AGE</th>\n",
       "    </tr>\n",
       "  </thead>\n",
       "  <tbody>\n",
       "    <tr>\n",
       "      <th>0</th>\n",
       "      <td>39</td>\n",
       "      <td>android</td>\n",
       "      <td>male</td>\n",
       "      <td>bra</td>\n",
       "      <td>17</td>\n",
       "    </tr>\n",
       "    <tr>\n",
       "      <th>1</th>\n",
       "      <td>39</td>\n",
       "      <td>android</td>\n",
       "      <td>male</td>\n",
       "      <td>bra</td>\n",
       "      <td>17</td>\n",
       "    </tr>\n",
       "    <tr>\n",
       "      <th>2</th>\n",
       "      <td>49</td>\n",
       "      <td>android</td>\n",
       "      <td>male</td>\n",
       "      <td>bra</td>\n",
       "      <td>17</td>\n",
       "    </tr>\n",
       "    <tr>\n",
       "      <th>3</th>\n",
       "      <td>29</td>\n",
       "      <td>android</td>\n",
       "      <td>male</td>\n",
       "      <td>tur</td>\n",
       "      <td>17</td>\n",
       "    </tr>\n",
       "    <tr>\n",
       "      <th>4</th>\n",
       "      <td>49</td>\n",
       "      <td>android</td>\n",
       "      <td>male</td>\n",
       "      <td>tur</td>\n",
       "      <td>17</td>\n",
       "    </tr>\n",
       "  </tbody>\n",
       "</table>\n",
       "</div>"
      ],
      "text/plain": [
       "   PRICE   SOURCE   SEX COUNTRY  AGE\n",
       "0     39  android  male     bra   17\n",
       "1     39  android  male     bra   17\n",
       "2     49  android  male     bra   17\n",
       "3     29  android  male     tur   17\n",
       "4     49  android  male     tur   17"
      ]
     },
     "execution_count": 2,
     "metadata": {},
     "output_type": "execute_result"
    }
   ],
   "source": [
    "import numpy as np\n",
    "import pandas as pd\n",
    "import seaborn as sns\n",
    "import matplotlib.pyplot as plt\n",
    "pd.set_option('display.max_columns', None)\n",
    "pd.set_option('display.width', 500)\n",
    "df = pd.read_csv(\"/kaggle/input/persona-1/persona_1.csv\")\n",
    "\n",
    "df.head()"
   ]
  },
  {
   "cell_type": "code",
   "execution_count": 3,
   "id": "08e5bc6b",
   "metadata": {
    "execution": {
     "iopub.execute_input": "2024-09-04T17:26:08.143138Z",
     "iopub.status.busy": "2024-09-04T17:26:08.142690Z",
     "iopub.status.idle": "2024-09-04T17:26:08.183613Z",
     "shell.execute_reply": "2024-09-04T17:26:08.182292Z"
    },
    "papermill": {
     "duration": 0.052123,
     "end_time": "2024-09-04T17:26:08.186291",
     "exception": false,
     "start_time": "2024-09-04T17:26:08.134168",
     "status": "completed"
    },
    "tags": []
   },
   "outputs": [
    {
     "name": "stdout",
     "output_type": "stream",
     "text": [
      "<class 'pandas.core.frame.DataFrame'>\n",
      "Index: 5000 entries, 0 to 4999\n",
      "Data columns (total 5 columns):\n",
      " #   Column   Non-Null Count  Dtype \n",
      "---  ------   --------------  ----- \n",
      " 0   PRICE    5000 non-null   int64 \n",
      " 1   SOURCE   5000 non-null   object\n",
      " 2   SEX      5000 non-null   object\n",
      " 3   COUNTRY  5000 non-null   object\n",
      " 4   AGE      5000 non-null   int64 \n",
      "dtypes: int64(2), object(3)\n",
      "memory usage: 234.4+ KB\n"
     ]
    },
    {
     "data": {
      "text/plain": [
       "False"
      ]
     },
     "execution_count": 3,
     "metadata": {},
     "output_type": "execute_result"
    }
   ],
   "source": [
    "##### GOREV - 1 #####\n",
    "# Soru 1: persona.csv dosyasını okutunuz ve veri seti ile ilgili genel bilgileri gösteriniz.\n",
    "\n",
    "df.shape\n",
    "df.info()\n",
    "df.columns\n",
    "df.index\n",
    "df.describe().T\n",
    "df.isnull().values.any()"
   ]
  },
  {
   "cell_type": "code",
   "execution_count": 4,
   "id": "f19c80a6",
   "metadata": {
    "execution": {
     "iopub.execute_input": "2024-09-04T17:26:08.202250Z",
     "iopub.status.busy": "2024-09-04T17:26:08.201800Z",
     "iopub.status.idle": "2024-09-04T17:26:08.213250Z",
     "shell.execute_reply": "2024-09-04T17:26:08.212118Z"
    },
    "papermill": {
     "duration": 0.022658,
     "end_time": "2024-09-04T17:26:08.216035",
     "exception": false,
     "start_time": "2024-09-04T17:26:08.193377",
     "status": "completed"
    },
    "tags": []
   },
   "outputs": [
    {
     "data": {
      "text/plain": [
       "SOURCE\n",
       "android    2974\n",
       "ios        2026\n",
       "Name: count, dtype: int64"
      ]
     },
     "execution_count": 4,
     "metadata": {},
     "output_type": "execute_result"
    }
   ],
   "source": [
    "# Soru 2: Kaç unique SOURCE vardır? Frekansları nedir\n",
    "\n",
    "df[\"SOURCE\"].unique()\n",
    "df[\"SOURCE\"].nunique()\n",
    "df[\"SOURCE\"].value_counts()"
   ]
  },
  {
   "cell_type": "code",
   "execution_count": 5,
   "id": "ada5b9e6",
   "metadata": {
    "execution": {
     "iopub.execute_input": "2024-09-04T17:26:08.232409Z",
     "iopub.status.busy": "2024-09-04T17:26:08.231975Z",
     "iopub.status.idle": "2024-09-04T17:26:08.241159Z",
     "shell.execute_reply": "2024-09-04T17:26:08.240030Z"
    },
    "papermill": {
     "duration": 0.020224,
     "end_time": "2024-09-04T17:26:08.243545",
     "exception": false,
     "start_time": "2024-09-04T17:26:08.223321",
     "status": "completed"
    },
    "tags": []
   },
   "outputs": [
    {
     "data": {
      "text/plain": [
       "6"
      ]
     },
     "execution_count": 5,
     "metadata": {},
     "output_type": "execute_result"
    }
   ],
   "source": [
    "# Soru 3: Kaç unique PRICE vardır?\n",
    "df[\"PRICE\"].nunique()"
   ]
  },
  {
   "cell_type": "code",
   "execution_count": 6,
   "id": "a93d967c",
   "metadata": {
    "execution": {
     "iopub.execute_input": "2024-09-04T17:26:08.260528Z",
     "iopub.status.busy": "2024-09-04T17:26:08.260114Z",
     "iopub.status.idle": "2024-09-04T17:26:08.270246Z",
     "shell.execute_reply": "2024-09-04T17:26:08.269133Z"
    },
    "papermill": {
     "duration": 0.021427,
     "end_time": "2024-09-04T17:26:08.272591",
     "exception": false,
     "start_time": "2024-09-04T17:26:08.251164",
     "status": "completed"
    },
    "tags": []
   },
   "outputs": [
    {
     "data": {
      "text/plain": [
       "PRICE\n",
       "29    1305\n",
       "39    1260\n",
       "49    1031\n",
       "19     992\n",
       "59     212\n",
       "9      200\n",
       "Name: count, dtype: int64"
      ]
     },
     "execution_count": 6,
     "metadata": {},
     "output_type": "execute_result"
    }
   ],
   "source": [
    "# Soru 4: Hangi PRICE'dan kaçar tane satış gerçekleşmiş\n",
    "df[\"PRICE\"].value_counts()"
   ]
  },
  {
   "cell_type": "code",
   "execution_count": 7,
   "id": "bf1ee8a9",
   "metadata": {
    "execution": {
     "iopub.execute_input": "2024-09-04T17:26:08.289523Z",
     "iopub.status.busy": "2024-09-04T17:26:08.289128Z",
     "iopub.status.idle": "2024-09-04T17:26:08.298870Z",
     "shell.execute_reply": "2024-09-04T17:26:08.297759Z"
    },
    "papermill": {
     "duration": 0.021126,
     "end_time": "2024-09-04T17:26:08.301271",
     "exception": false,
     "start_time": "2024-09-04T17:26:08.280145",
     "status": "completed"
    },
    "tags": []
   },
   "outputs": [
    {
     "data": {
      "text/plain": [
       "COUNTRY\n",
       "usa    2065\n",
       "bra    1496\n",
       "deu     455\n",
       "tur     451\n",
       "fra     303\n",
       "can     230\n",
       "Name: count, dtype: int64"
      ]
     },
     "execution_count": 7,
     "metadata": {},
     "output_type": "execute_result"
    }
   ],
   "source": [
    "# Soru 5: Hangi ülkeden kaçar tane satış olmuş?\n",
    "df[\"COUNTRY\"].value_counts()"
   ]
  },
  {
   "cell_type": "code",
   "execution_count": 8,
   "id": "16ac0e31",
   "metadata": {
    "execution": {
     "iopub.execute_input": "2024-09-04T17:26:08.318874Z",
     "iopub.status.busy": "2024-09-04T17:26:08.318481Z",
     "iopub.status.idle": "2024-09-04T17:26:08.332110Z",
     "shell.execute_reply": "2024-09-04T17:26:08.330872Z"
    },
    "papermill": {
     "duration": 0.025413,
     "end_time": "2024-09-04T17:26:08.334704",
     "exception": false,
     "start_time": "2024-09-04T17:26:08.309291",
     "status": "completed"
    },
    "tags": []
   },
   "outputs": [
    {
     "data": {
      "text/html": [
       "<div>\n",
       "<style scoped>\n",
       "    .dataframe tbody tr th:only-of-type {\n",
       "        vertical-align: middle;\n",
       "    }\n",
       "\n",
       "    .dataframe tbody tr th {\n",
       "        vertical-align: top;\n",
       "    }\n",
       "\n",
       "    .dataframe thead th {\n",
       "        text-align: right;\n",
       "    }\n",
       "</style>\n",
       "<table border=\"1\" class=\"dataframe\">\n",
       "  <thead>\n",
       "    <tr style=\"text-align: right;\">\n",
       "      <th></th>\n",
       "      <th>PRICE</th>\n",
       "    </tr>\n",
       "    <tr>\n",
       "      <th>COUNTRY</th>\n",
       "      <th></th>\n",
       "    </tr>\n",
       "  </thead>\n",
       "  <tbody>\n",
       "    <tr>\n",
       "      <th>bra</th>\n",
       "      <td>51354</td>\n",
       "    </tr>\n",
       "    <tr>\n",
       "      <th>can</th>\n",
       "      <td>7730</td>\n",
       "    </tr>\n",
       "    <tr>\n",
       "      <th>deu</th>\n",
       "      <td>15485</td>\n",
       "    </tr>\n",
       "    <tr>\n",
       "      <th>fra</th>\n",
       "      <td>10177</td>\n",
       "    </tr>\n",
       "    <tr>\n",
       "      <th>tur</th>\n",
       "      <td>15689</td>\n",
       "    </tr>\n",
       "    <tr>\n",
       "      <th>usa</th>\n",
       "      <td>70225</td>\n",
       "    </tr>\n",
       "  </tbody>\n",
       "</table>\n",
       "</div>"
      ],
      "text/plain": [
       "         PRICE\n",
       "COUNTRY       \n",
       "bra      51354\n",
       "can       7730\n",
       "deu      15485\n",
       "fra      10177\n",
       "tur      15689\n",
       "usa      70225"
      ]
     },
     "execution_count": 8,
     "metadata": {},
     "output_type": "execute_result"
    }
   ],
   "source": [
    "# Soru 6: Ülkelere göre satışlardan toplam ne kadar kazanılmış\n",
    "df.groupby(\"COUNTRY\").agg({\"PRICE\" : \"sum\"})"
   ]
  },
  {
   "cell_type": "code",
   "execution_count": 9,
   "id": "4449c079",
   "metadata": {
    "execution": {
     "iopub.execute_input": "2024-09-04T17:26:08.352662Z",
     "iopub.status.busy": "2024-09-04T17:26:08.352263Z",
     "iopub.status.idle": "2024-09-04T17:26:08.362115Z",
     "shell.execute_reply": "2024-09-04T17:26:08.360974Z"
    },
    "papermill": {
     "duration": 0.021762,
     "end_time": "2024-09-04T17:26:08.364624",
     "exception": false,
     "start_time": "2024-09-04T17:26:08.342862",
     "status": "completed"
    },
    "tags": []
   },
   "outputs": [
    {
     "data": {
      "text/plain": [
       "SOURCE\n",
       "android    2974\n",
       "ios        2026\n",
       "Name: count, dtype: int64"
      ]
     },
     "execution_count": 9,
     "metadata": {},
     "output_type": "execute_result"
    }
   ],
   "source": [
    "# Soru 7: SOURCE türlerine göre satış sayıları nedir --???\n",
    "df[\"SOURCE\"].value_counts()\n"
   ]
  },
  {
   "cell_type": "code",
   "execution_count": 10,
   "id": "7072fcc9",
   "metadata": {
    "execution": {
     "iopub.execute_input": "2024-09-04T17:26:08.382977Z",
     "iopub.status.busy": "2024-09-04T17:26:08.382204Z",
     "iopub.status.idle": "2024-09-04T17:26:08.398398Z",
     "shell.execute_reply": "2024-09-04T17:26:08.397295Z"
    },
    "papermill": {
     "duration": 0.028217,
     "end_time": "2024-09-04T17:26:08.401022",
     "exception": false,
     "start_time": "2024-09-04T17:26:08.372805",
     "status": "completed"
    },
    "tags": []
   },
   "outputs": [
    {
     "data": {
      "text/html": [
       "<div>\n",
       "<style scoped>\n",
       "    .dataframe tbody tr th:only-of-type {\n",
       "        vertical-align: middle;\n",
       "    }\n",
       "\n",
       "    .dataframe tbody tr th {\n",
       "        vertical-align: top;\n",
       "    }\n",
       "\n",
       "    .dataframe thead th {\n",
       "        text-align: right;\n",
       "    }\n",
       "</style>\n",
       "<table border=\"1\" class=\"dataframe\">\n",
       "  <thead>\n",
       "    <tr style=\"text-align: right;\">\n",
       "      <th></th>\n",
       "      <th>PRICE</th>\n",
       "    </tr>\n",
       "    <tr>\n",
       "      <th>COUNTRY</th>\n",
       "      <th></th>\n",
       "    </tr>\n",
       "  </thead>\n",
       "  <tbody>\n",
       "    <tr>\n",
       "      <th>bra</th>\n",
       "      <td>34.327540</td>\n",
       "    </tr>\n",
       "    <tr>\n",
       "      <th>can</th>\n",
       "      <td>33.608696</td>\n",
       "    </tr>\n",
       "    <tr>\n",
       "      <th>deu</th>\n",
       "      <td>34.032967</td>\n",
       "    </tr>\n",
       "    <tr>\n",
       "      <th>fra</th>\n",
       "      <td>33.587459</td>\n",
       "    </tr>\n",
       "    <tr>\n",
       "      <th>tur</th>\n",
       "      <td>34.787140</td>\n",
       "    </tr>\n",
       "    <tr>\n",
       "      <th>usa</th>\n",
       "      <td>34.007264</td>\n",
       "    </tr>\n",
       "  </tbody>\n",
       "</table>\n",
       "</div>"
      ],
      "text/plain": [
       "             PRICE\n",
       "COUNTRY           \n",
       "bra      34.327540\n",
       "can      33.608696\n",
       "deu      34.032967\n",
       "fra      33.587459\n",
       "tur      34.787140\n",
       "usa      34.007264"
      ]
     },
     "execution_count": 10,
     "metadata": {},
     "output_type": "execute_result"
    }
   ],
   "source": [
    "# Soru 8: Ülkelere göre PRICE ortalamaları nedir?\n",
    "df.groupby(\"COUNTRY\").agg({\"PRICE\" : \"mean\"})"
   ]
  },
  {
   "cell_type": "code",
   "execution_count": 11,
   "id": "14f212e0",
   "metadata": {
    "execution": {
     "iopub.execute_input": "2024-09-04T17:26:08.420347Z",
     "iopub.status.busy": "2024-09-04T17:26:08.419884Z",
     "iopub.status.idle": "2024-09-04T17:26:08.433437Z",
     "shell.execute_reply": "2024-09-04T17:26:08.432386Z"
    },
    "papermill": {
     "duration": 0.026304,
     "end_time": "2024-09-04T17:26:08.436006",
     "exception": false,
     "start_time": "2024-09-04T17:26:08.409702",
     "status": "completed"
    },
    "tags": []
   },
   "outputs": [
    {
     "data": {
      "text/html": [
       "<div>\n",
       "<style scoped>\n",
       "    .dataframe tbody tr th:only-of-type {\n",
       "        vertical-align: middle;\n",
       "    }\n",
       "\n",
       "    .dataframe tbody tr th {\n",
       "        vertical-align: top;\n",
       "    }\n",
       "\n",
       "    .dataframe thead th {\n",
       "        text-align: right;\n",
       "    }\n",
       "</style>\n",
       "<table border=\"1\" class=\"dataframe\">\n",
       "  <thead>\n",
       "    <tr style=\"text-align: right;\">\n",
       "      <th></th>\n",
       "      <th>PRICE</th>\n",
       "    </tr>\n",
       "    <tr>\n",
       "      <th>SOURCE</th>\n",
       "      <th></th>\n",
       "    </tr>\n",
       "  </thead>\n",
       "  <tbody>\n",
       "    <tr>\n",
       "      <th>android</th>\n",
       "      <td>34.174849</td>\n",
       "    </tr>\n",
       "    <tr>\n",
       "      <th>ios</th>\n",
       "      <td>34.069102</td>\n",
       "    </tr>\n",
       "  </tbody>\n",
       "</table>\n",
       "</div>"
      ],
      "text/plain": [
       "             PRICE\n",
       "SOURCE            \n",
       "android  34.174849\n",
       "ios      34.069102"
      ]
     },
     "execution_count": 11,
     "metadata": {},
     "output_type": "execute_result"
    }
   ],
   "source": [
    "# Soru 9: SOURCE'lara göre PRICE ortalamaları nedir?\n",
    "df.groupby(\"SOURCE\").agg({\"PRICE\" : \"mean\"})"
   ]
  },
  {
   "cell_type": "code",
   "execution_count": 12,
   "id": "25d74c85",
   "metadata": {
    "execution": {
     "iopub.execute_input": "2024-09-04T17:26:08.456177Z",
     "iopub.status.busy": "2024-09-04T17:26:08.455244Z",
     "iopub.status.idle": "2024-09-04T17:26:08.472438Z",
     "shell.execute_reply": "2024-09-04T17:26:08.471331Z"
    },
    "papermill": {
     "duration": 0.030326,
     "end_time": "2024-09-04T17:26:08.475121",
     "exception": false,
     "start_time": "2024-09-04T17:26:08.444795",
     "status": "completed"
    },
    "tags": []
   },
   "outputs": [
    {
     "data": {
      "text/html": [
       "<div>\n",
       "<style scoped>\n",
       "    .dataframe tbody tr th:only-of-type {\n",
       "        vertical-align: middle;\n",
       "    }\n",
       "\n",
       "    .dataframe tbody tr th {\n",
       "        vertical-align: top;\n",
       "    }\n",
       "\n",
       "    .dataframe thead th {\n",
       "        text-align: right;\n",
       "    }\n",
       "</style>\n",
       "<table border=\"1\" class=\"dataframe\">\n",
       "  <thead>\n",
       "    <tr style=\"text-align: right;\">\n",
       "      <th></th>\n",
       "      <th></th>\n",
       "      <th>PRICE</th>\n",
       "    </tr>\n",
       "    <tr>\n",
       "      <th>COUNTRY</th>\n",
       "      <th>SOURCE</th>\n",
       "      <th></th>\n",
       "    </tr>\n",
       "  </thead>\n",
       "  <tbody>\n",
       "    <tr>\n",
       "      <th rowspan=\"2\" valign=\"top\">bra</th>\n",
       "      <th>android</th>\n",
       "      <td>34.387029</td>\n",
       "    </tr>\n",
       "    <tr>\n",
       "      <th>ios</th>\n",
       "      <td>34.222222</td>\n",
       "    </tr>\n",
       "    <tr>\n",
       "      <th rowspan=\"2\" valign=\"top\">can</th>\n",
       "      <th>android</th>\n",
       "      <td>33.330709</td>\n",
       "    </tr>\n",
       "    <tr>\n",
       "      <th>ios</th>\n",
       "      <td>33.951456</td>\n",
       "    </tr>\n",
       "    <tr>\n",
       "      <th rowspan=\"2\" valign=\"top\">deu</th>\n",
       "      <th>android</th>\n",
       "      <td>33.869888</td>\n",
       "    </tr>\n",
       "    <tr>\n",
       "      <th>ios</th>\n",
       "      <td>34.268817</td>\n",
       "    </tr>\n",
       "    <tr>\n",
       "      <th rowspan=\"2\" valign=\"top\">fra</th>\n",
       "      <th>android</th>\n",
       "      <td>34.312500</td>\n",
       "    </tr>\n",
       "    <tr>\n",
       "      <th>ios</th>\n",
       "      <td>32.776224</td>\n",
       "    </tr>\n",
       "    <tr>\n",
       "      <th rowspan=\"2\" valign=\"top\">tur</th>\n",
       "      <th>android</th>\n",
       "      <td>36.229437</td>\n",
       "    </tr>\n",
       "    <tr>\n",
       "      <th>ios</th>\n",
       "      <td>33.272727</td>\n",
       "    </tr>\n",
       "    <tr>\n",
       "      <th rowspan=\"2\" valign=\"top\">usa</th>\n",
       "      <th>android</th>\n",
       "      <td>33.760357</td>\n",
       "    </tr>\n",
       "    <tr>\n",
       "      <th>ios</th>\n",
       "      <td>34.371703</td>\n",
       "    </tr>\n",
       "  </tbody>\n",
       "</table>\n",
       "</div>"
      ],
      "text/plain": [
       "                     PRICE\n",
       "COUNTRY SOURCE            \n",
       "bra     android  34.387029\n",
       "        ios      34.222222\n",
       "can     android  33.330709\n",
       "        ios      33.951456\n",
       "deu     android  33.869888\n",
       "        ios      34.268817\n",
       "fra     android  34.312500\n",
       "        ios      32.776224\n",
       "tur     android  36.229437\n",
       "        ios      33.272727\n",
       "usa     android  33.760357\n",
       "        ios      34.371703"
      ]
     },
     "execution_count": 12,
     "metadata": {},
     "output_type": "execute_result"
    }
   ],
   "source": [
    "# Soru 10: COUNTRY-SOURCE kırılımında PRICE ortalamaları nedir?\n",
    "df.groupby([\"COUNTRY\", \"SOURCE\"]).agg({\"PRICE\" : \"mean\"})"
   ]
  },
  {
   "cell_type": "code",
   "execution_count": 13,
   "id": "e3b8132f",
   "metadata": {
    "execution": {
     "iopub.execute_input": "2024-09-04T17:26:08.494792Z",
     "iopub.status.busy": "2024-09-04T17:26:08.494388Z",
     "iopub.status.idle": "2024-09-04T17:26:08.525245Z",
     "shell.execute_reply": "2024-09-04T17:26:08.524157Z"
    },
    "papermill": {
     "duration": 0.043764,
     "end_time": "2024-09-04T17:26:08.527794",
     "exception": false,
     "start_time": "2024-09-04T17:26:08.484030",
     "status": "completed"
    },
    "tags": []
   },
   "outputs": [
    {
     "data": {
      "text/html": [
       "<div>\n",
       "<style scoped>\n",
       "    .dataframe tbody tr th:only-of-type {\n",
       "        vertical-align: middle;\n",
       "    }\n",
       "\n",
       "    .dataframe tbody tr th {\n",
       "        vertical-align: top;\n",
       "    }\n",
       "\n",
       "    .dataframe thead th {\n",
       "        text-align: right;\n",
       "    }\n",
       "</style>\n",
       "<table border=\"1\" class=\"dataframe\">\n",
       "  <thead>\n",
       "    <tr style=\"text-align: right;\">\n",
       "      <th></th>\n",
       "      <th>COUNTRY</th>\n",
       "      <th>SOURCE</th>\n",
       "      <th>SEX</th>\n",
       "      <th>AGE</th>\n",
       "      <th>PRICE</th>\n",
       "      <th>NEW_AGE</th>\n",
       "    </tr>\n",
       "  </thead>\n",
       "  <tbody>\n",
       "    <tr>\n",
       "      <th>0</th>\n",
       "      <td>bra</td>\n",
       "      <td>android</td>\n",
       "      <td>male</td>\n",
       "      <td>46</td>\n",
       "      <td>59.0</td>\n",
       "      <td>41_66</td>\n",
       "    </tr>\n",
       "    <tr>\n",
       "      <th>1</th>\n",
       "      <td>usa</td>\n",
       "      <td>android</td>\n",
       "      <td>male</td>\n",
       "      <td>36</td>\n",
       "      <td>59.0</td>\n",
       "      <td>31_40</td>\n",
       "    </tr>\n",
       "    <tr>\n",
       "      <th>2</th>\n",
       "      <td>fra</td>\n",
       "      <td>android</td>\n",
       "      <td>female</td>\n",
       "      <td>24</td>\n",
       "      <td>59.0</td>\n",
       "      <td>24_30</td>\n",
       "    </tr>\n",
       "    <tr>\n",
       "      <th>3</th>\n",
       "      <td>usa</td>\n",
       "      <td>ios</td>\n",
       "      <td>male</td>\n",
       "      <td>32</td>\n",
       "      <td>54.0</td>\n",
       "      <td>31_40</td>\n",
       "    </tr>\n",
       "    <tr>\n",
       "      <th>4</th>\n",
       "      <td>deu</td>\n",
       "      <td>android</td>\n",
       "      <td>female</td>\n",
       "      <td>36</td>\n",
       "      <td>49.0</td>\n",
       "      <td>31_40</td>\n",
       "    </tr>\n",
       "  </tbody>\n",
       "</table>\n",
       "</div>"
      ],
      "text/plain": [
       "  COUNTRY   SOURCE     SEX  AGE  PRICE NEW_AGE\n",
       "0     bra  android    male   46   59.0   41_66\n",
       "1     usa  android    male   36   59.0   31_40\n",
       "2     fra  android  female   24   59.0   24_30\n",
       "3     usa      ios    male   32   54.0   31_40\n",
       "4     deu  android  female   36   49.0   31_40"
      ]
     },
     "execution_count": 13,
     "metadata": {},
     "output_type": "execute_result"
    }
   ],
   "source": [
    "##### GOREV - 2 #####\n",
    "\n",
    "#  COUNTRY, SOURCE, SEX, AGE kırılımında ortalama kazançlar nedir?\n",
    "agg_df = df.groupby([\"COUNTRY\",\"SOURCE\", \"SEX\", \"AGE\"]).agg({\"PRICE\" : \"mean\"}).sort_values(by=\"PRICE\", ascending=False)\n",
    "\n",
    "agg_df = agg_df.reset_index()\n",
    "\n",
    "agg_df[\"NEW_AGE\"] = pd.cut(agg_df[\"AGE\"], [0, 18, 23, 30, 40, agg_df[\"AGE\"].max()],\n",
    "                           labels=['0_18', '19_23', '24_30', '31_40', '41_' + str(agg_df[\"AGE\"].max())])\n",
    "agg_df.head()\n",
    "\n"
   ]
  },
  {
   "cell_type": "code",
   "execution_count": 14,
   "id": "929c7dc0",
   "metadata": {
    "execution": {
     "iopub.execute_input": "2024-09-04T17:26:08.548630Z",
     "iopub.status.busy": "2024-09-04T17:26:08.547668Z",
     "iopub.status.idle": "2024-09-04T17:26:08.573237Z",
     "shell.execute_reply": "2024-09-04T17:26:08.572104Z"
    },
    "papermill": {
     "duration": 0.038794,
     "end_time": "2024-09-04T17:26:08.575841",
     "exception": false,
     "start_time": "2024-09-04T17:26:08.537047",
     "status": "completed"
    },
    "tags": []
   },
   "outputs": [
    {
     "data": {
      "text/html": [
       "<div>\n",
       "<style scoped>\n",
       "    .dataframe tbody tr th:only-of-type {\n",
       "        vertical-align: middle;\n",
       "    }\n",
       "\n",
       "    .dataframe tbody tr th {\n",
       "        vertical-align: top;\n",
       "    }\n",
       "\n",
       "    .dataframe thead th {\n",
       "        text-align: right;\n",
       "    }\n",
       "</style>\n",
       "<table border=\"1\" class=\"dataframe\">\n",
       "  <thead>\n",
       "    <tr style=\"text-align: right;\">\n",
       "      <th></th>\n",
       "      <th>COUNTRY</th>\n",
       "      <th>SOURCE</th>\n",
       "      <th>SEX</th>\n",
       "      <th>AGE</th>\n",
       "      <th>PRICE</th>\n",
       "      <th>NEW_AGE</th>\n",
       "      <th>customers_level_based</th>\n",
       "    </tr>\n",
       "  </thead>\n",
       "  <tbody>\n",
       "    <tr>\n",
       "      <th>0</th>\n",
       "      <td>bra</td>\n",
       "      <td>android</td>\n",
       "      <td>male</td>\n",
       "      <td>46</td>\n",
       "      <td>59.0</td>\n",
       "      <td>41_66</td>\n",
       "      <td>BRA_ANDROID_MALE_41_66</td>\n",
       "    </tr>\n",
       "    <tr>\n",
       "      <th>1</th>\n",
       "      <td>usa</td>\n",
       "      <td>android</td>\n",
       "      <td>male</td>\n",
       "      <td>36</td>\n",
       "      <td>59.0</td>\n",
       "      <td>31_40</td>\n",
       "      <td>USA_ANDROID_MALE_31_40</td>\n",
       "    </tr>\n",
       "    <tr>\n",
       "      <th>2</th>\n",
       "      <td>fra</td>\n",
       "      <td>android</td>\n",
       "      <td>female</td>\n",
       "      <td>24</td>\n",
       "      <td>59.0</td>\n",
       "      <td>24_30</td>\n",
       "      <td>FRA_ANDROID_FEMALE_24_30</td>\n",
       "    </tr>\n",
       "    <tr>\n",
       "      <th>3</th>\n",
       "      <td>usa</td>\n",
       "      <td>ios</td>\n",
       "      <td>male</td>\n",
       "      <td>32</td>\n",
       "      <td>54.0</td>\n",
       "      <td>31_40</td>\n",
       "      <td>USA_IOS_MALE_31_40</td>\n",
       "    </tr>\n",
       "    <tr>\n",
       "      <th>4</th>\n",
       "      <td>deu</td>\n",
       "      <td>android</td>\n",
       "      <td>female</td>\n",
       "      <td>36</td>\n",
       "      <td>49.0</td>\n",
       "      <td>31_40</td>\n",
       "      <td>DEU_ANDROID_FEMALE_31_40</td>\n",
       "    </tr>\n",
       "  </tbody>\n",
       "</table>\n",
       "</div>"
      ],
      "text/plain": [
       "  COUNTRY   SOURCE     SEX  AGE  PRICE NEW_AGE     customers_level_based\n",
       "0     bra  android    male   46   59.0   41_66    BRA_ANDROID_MALE_41_66\n",
       "1     usa  android    male   36   59.0   31_40    USA_ANDROID_MALE_31_40\n",
       "2     fra  android  female   24   59.0   24_30  FRA_ANDROID_FEMALE_24_30\n",
       "3     usa      ios    male   32   54.0   31_40        USA_IOS_MALE_31_40\n",
       "4     deu  android  female   36   49.0   31_40  DEU_ANDROID_FEMALE_31_40"
      ]
     },
     "execution_count": 14,
     "metadata": {},
     "output_type": "execute_result"
    }
   ],
   "source": [
    "agg_df['customers_level_based'] = agg_df[['COUNTRY', 'SOURCE', 'SEX', 'NEW_AGE']].agg(lambda x: '_'.join(x).upper(), axis=1)\n",
    "agg_df.head()\n"
   ]
  },
  {
   "cell_type": "code",
   "execution_count": 15,
   "id": "c0b2396d",
   "metadata": {
    "execution": {
     "iopub.execute_input": "2024-09-04T17:26:08.597014Z",
     "iopub.status.busy": "2024-09-04T17:26:08.596583Z",
     "iopub.status.idle": "2024-09-04T17:26:08.612049Z",
     "shell.execute_reply": "2024-09-04T17:26:08.610943Z"
    },
    "papermill": {
     "duration": 0.02918,
     "end_time": "2024-09-04T17:26:08.614660",
     "exception": false,
     "start_time": "2024-09-04T17:26:08.585480",
     "status": "completed"
    },
    "tags": []
   },
   "outputs": [
    {
     "data": {
      "text/html": [
       "<div>\n",
       "<style scoped>\n",
       "    .dataframe tbody tr th:only-of-type {\n",
       "        vertical-align: middle;\n",
       "    }\n",
       "\n",
       "    .dataframe tbody tr th {\n",
       "        vertical-align: top;\n",
       "    }\n",
       "\n",
       "    .dataframe thead th {\n",
       "        text-align: right;\n",
       "    }\n",
       "</style>\n",
       "<table border=\"1\" class=\"dataframe\">\n",
       "  <thead>\n",
       "    <tr style=\"text-align: right;\">\n",
       "      <th></th>\n",
       "      <th>customers_level_based</th>\n",
       "      <th>PRICE</th>\n",
       "    </tr>\n",
       "  </thead>\n",
       "  <tbody>\n",
       "    <tr>\n",
       "      <th>0</th>\n",
       "      <td>FRA_ANDROID_FEMALE_24_30</td>\n",
       "      <td>45.428571</td>\n",
       "    </tr>\n",
       "    <tr>\n",
       "      <th>1</th>\n",
       "      <td>TUR_IOS_MALE_24_30</td>\n",
       "      <td>45.000000</td>\n",
       "    </tr>\n",
       "    <tr>\n",
       "      <th>2</th>\n",
       "      <td>TUR_IOS_MALE_31_40</td>\n",
       "      <td>42.333333</td>\n",
       "    </tr>\n",
       "    <tr>\n",
       "      <th>3</th>\n",
       "      <td>TUR_ANDROID_FEMALE_31_40</td>\n",
       "      <td>41.833333</td>\n",
       "    </tr>\n",
       "    <tr>\n",
       "      <th>4</th>\n",
       "      <td>CAN_ANDROID_MALE_19_23</td>\n",
       "      <td>40.111111</td>\n",
       "    </tr>\n",
       "  </tbody>\n",
       "</table>\n",
       "</div>"
      ],
      "text/plain": [
       "      customers_level_based      PRICE\n",
       "0  FRA_ANDROID_FEMALE_24_30  45.428571\n",
       "1        TUR_IOS_MALE_24_30  45.000000\n",
       "2        TUR_IOS_MALE_31_40  42.333333\n",
       "3  TUR_ANDROID_FEMALE_31_40  41.833333\n",
       "4    CAN_ANDROID_MALE_19_23  40.111111"
      ]
     },
     "execution_count": 15,
     "metadata": {},
     "output_type": "execute_result"
    }
   ],
   "source": [
    "agg_df = agg_df.groupby(\"customers_level_based\").agg({\"PRICE\" : \"mean\"}).sort_values(by=\"PRICE\", ascending=False).reset_index()\n",
    "agg_df.head()"
   ]
  },
  {
   "cell_type": "code",
   "execution_count": 16,
   "id": "20b282df",
   "metadata": {
    "execution": {
     "iopub.execute_input": "2024-09-04T17:26:08.636595Z",
     "iopub.status.busy": "2024-09-04T17:26:08.636137Z",
     "iopub.status.idle": "2024-09-04T17:26:08.654037Z",
     "shell.execute_reply": "2024-09-04T17:26:08.652954Z"
    },
    "papermill": {
     "duration": 0.031839,
     "end_time": "2024-09-04T17:26:08.656425",
     "exception": false,
     "start_time": "2024-09-04T17:26:08.624586",
     "status": "completed"
    },
    "tags": []
   },
   "outputs": [
    {
     "data": {
      "text/html": [
       "<div>\n",
       "<style scoped>\n",
       "    .dataframe tbody tr th:only-of-type {\n",
       "        vertical-align: middle;\n",
       "    }\n",
       "\n",
       "    .dataframe tbody tr th {\n",
       "        vertical-align: top;\n",
       "    }\n",
       "\n",
       "    .dataframe thead th {\n",
       "        text-align: right;\n",
       "    }\n",
       "</style>\n",
       "<table border=\"1\" class=\"dataframe\">\n",
       "  <thead>\n",
       "    <tr style=\"text-align: right;\">\n",
       "      <th></th>\n",
       "      <th>customers_level_based</th>\n",
       "      <th>PRICE</th>\n",
       "      <th>SEGMENT</th>\n",
       "    </tr>\n",
       "  </thead>\n",
       "  <tbody>\n",
       "    <tr>\n",
       "      <th>0</th>\n",
       "      <td>FRA_ANDROID_FEMALE_24_30</td>\n",
       "      <td>45.428571</td>\n",
       "      <td>A</td>\n",
       "    </tr>\n",
       "    <tr>\n",
       "      <th>1</th>\n",
       "      <td>TUR_IOS_MALE_24_30</td>\n",
       "      <td>45.000000</td>\n",
       "      <td>A</td>\n",
       "    </tr>\n",
       "    <tr>\n",
       "      <th>2</th>\n",
       "      <td>TUR_IOS_MALE_31_40</td>\n",
       "      <td>42.333333</td>\n",
       "      <td>A</td>\n",
       "    </tr>\n",
       "    <tr>\n",
       "      <th>3</th>\n",
       "      <td>TUR_ANDROID_FEMALE_31_40</td>\n",
       "      <td>41.833333</td>\n",
       "      <td>A</td>\n",
       "    </tr>\n",
       "    <tr>\n",
       "      <th>4</th>\n",
       "      <td>CAN_ANDROID_MALE_19_23</td>\n",
       "      <td>40.111111</td>\n",
       "      <td>A</td>\n",
       "    </tr>\n",
       "  </tbody>\n",
       "</table>\n",
       "</div>"
      ],
      "text/plain": [
       "      customers_level_based      PRICE SEGMENT\n",
       "0  FRA_ANDROID_FEMALE_24_30  45.428571       A\n",
       "1        TUR_IOS_MALE_24_30  45.000000       A\n",
       "2        TUR_IOS_MALE_31_40  42.333333       A\n",
       "3  TUR_ANDROID_FEMALE_31_40  41.833333       A\n",
       "4    CAN_ANDROID_MALE_19_23  40.111111       A"
      ]
     },
     "execution_count": 16,
     "metadata": {},
     "output_type": "execute_result"
    }
   ],
   "source": [
    "agg_df[\"SEGMENT\"] = pd.qcut(agg_df[\"PRICE\"], 4, labels=[\"D\", \"C\", \"B\", \"A\"])\n",
    "agg_df.head()"
   ]
  },
  {
   "cell_type": "code",
   "execution_count": 17,
   "id": "bbc3819e",
   "metadata": {
    "execution": {
     "iopub.execute_input": "2024-09-04T17:26:08.678027Z",
     "iopub.status.busy": "2024-09-04T17:26:08.677522Z",
     "iopub.status.idle": "2024-09-04T17:26:08.704972Z",
     "shell.execute_reply": "2024-09-04T17:26:08.703978Z"
    },
    "papermill": {
     "duration": 0.042321,
     "end_time": "2024-09-04T17:26:08.708659",
     "exception": false,
     "start_time": "2024-09-04T17:26:08.666338",
     "status": "completed"
    },
    "tags": []
   },
   "outputs": [
    {
     "name": "stderr",
     "output_type": "stream",
     "text": [
      "/tmp/ipykernel_17/3173880524.py:1: FutureWarning: The default of observed=False is deprecated and will be changed to True in a future version of pandas. Pass observed=False to retain current behavior or observed=True to adopt the future default and silence this warning.\n",
      "  segmentSummary = agg_df.groupby(\"SEGMENT\").agg({\"PRICE\" : [\"mean\", \"max\", \"sum\"]}).reset_index()\n"
     ]
    },
    {
     "data": {
      "text/html": [
       "<div>\n",
       "<style scoped>\n",
       "    .dataframe tbody tr th:only-of-type {\n",
       "        vertical-align: middle;\n",
       "    }\n",
       "\n",
       "    .dataframe tbody tr th {\n",
       "        vertical-align: top;\n",
       "    }\n",
       "\n",
       "    .dataframe thead tr th {\n",
       "        text-align: left;\n",
       "    }\n",
       "</style>\n",
       "<table border=\"1\" class=\"dataframe\">\n",
       "  <thead>\n",
       "    <tr>\n",
       "      <th></th>\n",
       "      <th>SEGMENT</th>\n",
       "      <th colspan=\"3\" halign=\"left\">PRICE</th>\n",
       "    </tr>\n",
       "    <tr>\n",
       "      <th></th>\n",
       "      <th></th>\n",
       "      <th>mean</th>\n",
       "      <th>max</th>\n",
       "      <th>sum</th>\n",
       "    </tr>\n",
       "  </thead>\n",
       "  <tbody>\n",
       "    <tr>\n",
       "      <th>0</th>\n",
       "      <td>D</td>\n",
       "      <td>29.206780</td>\n",
       "      <td>32.333333</td>\n",
       "      <td>817.789833</td>\n",
       "    </tr>\n",
       "    <tr>\n",
       "      <th>1</th>\n",
       "      <td>C</td>\n",
       "      <td>33.509674</td>\n",
       "      <td>34.077340</td>\n",
       "      <td>904.761209</td>\n",
       "    </tr>\n",
       "    <tr>\n",
       "      <th>2</th>\n",
       "      <td>B</td>\n",
       "      <td>34.999645</td>\n",
       "      <td>36.000000</td>\n",
       "      <td>944.990411</td>\n",
       "    </tr>\n",
       "    <tr>\n",
       "      <th>3</th>\n",
       "      <td>A</td>\n",
       "      <td>38.691234</td>\n",
       "      <td>45.428571</td>\n",
       "      <td>1044.663328</td>\n",
       "    </tr>\n",
       "  </tbody>\n",
       "</table>\n",
       "</div>"
      ],
      "text/plain": [
       "  SEGMENT      PRICE                        \n",
       "                mean        max          sum\n",
       "0       D  29.206780  32.333333   817.789833\n",
       "1       C  33.509674  34.077340   904.761209\n",
       "2       B  34.999645  36.000000   944.990411\n",
       "3       A  38.691234  45.428571  1044.663328"
      ]
     },
     "execution_count": 17,
     "metadata": {},
     "output_type": "execute_result"
    }
   ],
   "source": [
    "segmentSummary = agg_df.groupby(\"SEGMENT\").agg({\"PRICE\" : [\"mean\", \"max\", \"sum\"]}).reset_index()\n",
    "segmentSummary.head()"
   ]
  },
  {
   "cell_type": "code",
   "execution_count": 18,
   "id": "fc4a0f2e",
   "metadata": {
    "execution": {
     "iopub.execute_input": "2024-09-04T17:26:08.731862Z",
     "iopub.status.busy": "2024-09-04T17:26:08.730817Z",
     "iopub.status.idle": "2024-09-04T17:26:08.744792Z",
     "shell.execute_reply": "2024-09-04T17:26:08.743730Z"
    },
    "papermill": {
     "duration": 0.02832,
     "end_time": "2024-09-04T17:26:08.747242",
     "exception": false,
     "start_time": "2024-09-04T17:26:08.718922",
     "status": "completed"
    },
    "tags": []
   },
   "outputs": [
    {
     "data": {
      "text/html": [
       "<div>\n",
       "<style scoped>\n",
       "    .dataframe tbody tr th:only-of-type {\n",
       "        vertical-align: middle;\n",
       "    }\n",
       "\n",
       "    .dataframe tbody tr th {\n",
       "        vertical-align: top;\n",
       "    }\n",
       "\n",
       "    .dataframe thead th {\n",
       "        text-align: right;\n",
       "    }\n",
       "</style>\n",
       "<table border=\"1\" class=\"dataframe\">\n",
       "  <thead>\n",
       "    <tr style=\"text-align: right;\">\n",
       "      <th></th>\n",
       "      <th>customers_level_based</th>\n",
       "      <th>PRICE</th>\n",
       "      <th>SEGMENT</th>\n",
       "    </tr>\n",
       "  </thead>\n",
       "  <tbody>\n",
       "    <tr>\n",
       "      <th>3</th>\n",
       "      <td>TUR_ANDROID_FEMALE_31_40</td>\n",
       "      <td>41.833333</td>\n",
       "      <td>A</td>\n",
       "    </tr>\n",
       "  </tbody>\n",
       "</table>\n",
       "</div>"
      ],
      "text/plain": [
       "      customers_level_based      PRICE SEGMENT\n",
       "3  TUR_ANDROID_FEMALE_31_40  41.833333       A"
      ]
     },
     "execution_count": 18,
     "metadata": {},
     "output_type": "execute_result"
    }
   ],
   "source": [
    "# TUR_ANDROID_FEMALE_31_40 \n",
    "# 33 yaşında ANDROID kullanan bir Türk kadını hangi segmentea ittir ve ortalama ne kadar gelir kazandırması beklenir?\n",
    "\n",
    "agg_df[agg_df[\"customers_level_based\"] == \"TUR_ANDROID_FEMALE_31_40\"]\n"
   ]
  }
 ],
 "metadata": {
  "kaggle": {
   "accelerator": "none",
   "dataSources": [
    {
     "datasetId": 5633341,
     "sourceId": 9303296,
     "sourceType": "datasetVersion"
    }
   ],
   "dockerImageVersionId": 30761,
   "isGpuEnabled": false,
   "isInternetEnabled": true,
   "language": "python",
   "sourceType": "notebook"
  },
  "kernelspec": {
   "display_name": "Python 3",
   "language": "python",
   "name": "python3"
  },
  "language_info": {
   "codemirror_mode": {
    "name": "ipython",
    "version": 3
   },
   "file_extension": ".py",
   "mimetype": "text/x-python",
   "name": "python",
   "nbconvert_exporter": "python",
   "pygments_lexer": "ipython3",
   "version": "3.10.14"
  },
  "papermill": {
   "default_parameters": {},
   "duration": 6.519915,
   "end_time": "2024-09-04T17:26:09.379814",
   "environment_variables": {},
   "exception": null,
   "input_path": "__notebook__.ipynb",
   "output_path": "__notebook__.ipynb",
   "parameters": {},
   "start_time": "2024-09-04T17:26:02.859899",
   "version": "2.6.0"
  }
 },
 "nbformat": 4,
 "nbformat_minor": 5
}
